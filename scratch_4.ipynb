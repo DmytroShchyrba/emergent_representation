{
 "cells": [
  {
   "cell_type": "markdown",
   "source": [
    "Guide to function structure"
   ],
   "metadata": {
    "collapsed": false
   },
   "id": "d2011125b15df8ef"
  },
  {
   "cell_type": "code",
   "outputs": [],
   "source": [
    "def subfunction_1():\n",
    "    assumption = True\n",
    "    #try assumption\n",
    "    if assumption:\n",
    "        output = 1\n",
    "    else:\n",
    "        print('Assumption Assumption_name failed')\n",
    "    return  output\n",
    "\n",
    "def subfunction_2():\n",
    "    assumption = True\n",
    "    #try assumption\n",
    "    if assumption:\n",
    "        output = 1\n",
    "    else:\n",
    "        print('Assumption Assumption_name failed')\n",
    "    return output\n",
    "\n",
    "\n",
    "def main_function(input, way=0):\n",
    "    if way == 0:\n",
    "        output = subfunction_1()\n",
    "    elif way == 1:\n",
    "        output = subfunction_2()\n",
    "    else:\n",
    "        print('Invalid way')"
   ],
   "metadata": {
    "collapsed": false
   },
   "id": "88cda5d1a6e10db7"
  }
 ],
 "metadata": {
  "kernelspec": {
   "display_name": "Python 3",
   "language": "python",
   "name": "python3"
  },
  "language_info": {
   "codemirror_mode": {
    "name": "ipython",
    "version": 2
   },
   "file_extension": ".py",
   "mimetype": "text/x-python",
   "name": "python",
   "nbconvert_exporter": "python",
   "pygments_lexer": "ipython2",
   "version": "2.7.6"
  }
 },
 "nbformat": 4,
 "nbformat_minor": 5
}
